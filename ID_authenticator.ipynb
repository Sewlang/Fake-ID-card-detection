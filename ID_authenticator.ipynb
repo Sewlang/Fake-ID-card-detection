{
 "cells": [
  {
   "cell_type": "markdown",
   "metadata": {},
   "source": [
    "L'objectif de ce projet est de verifier si une carte d'identité est authetique ou pas avec du \"computer vision\"  $\\color{red}{\\text{ciao}}$"
   ]
  },
  {
   "cell_type": "markdown",
   "metadata": {},
   "source": [
    "Nous allons calculer et comparer les similarités struturels entre la carte original (son image) et la carte soumise à vérification"
   ]
  },
  {
   "cell_type": "code",
   "execution_count": 1,
   "metadata": {},
   "outputs": [],
   "source": [
    "# Les packages necessaires !\n",
    "import numpy \n",
    "from skimage.metrics import structural_similarity   #Pour comparer la similarité structurelle entre deux images\n",
    "import cv2 #Pour du image processing\n",
    "import imutils\n",
    "from PIL import Image\n",
    "import requests\n",
    "\n"
   ]
  },
  {
   "cell_type": "markdown",
   "metadata": {},
   "source": [
    "On crée les dossiers de receptions de nos fichiers (A excecuter unseule fois)"
   ]
  },
  {
   "cell_type": "code",
   "execution_count": 4,
   "metadata": {},
   "outputs": [],
   "source": [
    "\n",
    "#!mkdir Verificateur_de_ID #Make directories\n",
    "#!mkdir Verificateur_de_ID\\image"
   ]
  }
 ],
 "metadata": {
  "kernelspec": {
   "display_name": "base",
   "language": "python",
   "name": "python3"
  },
  "language_info": {
   "codemirror_mode": {
    "name": "ipython",
    "version": 3
   },
   "file_extension": ".py",
   "mimetype": "text/x-python",
   "name": "python",
   "nbconvert_exporter": "python",
   "pygments_lexer": "ipython3",
   "version": "3.12.4"
  }
 },
 "nbformat": 4,
 "nbformat_minor": 2
}
